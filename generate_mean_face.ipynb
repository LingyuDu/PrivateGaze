{
 "cells": [
  {
   "cell_type": "code",
   "execution_count": null,
   "id": "955def44-475b-44d4-a13e-1bc0193d15cd",
   "metadata": {},
   "outputs": [],
   "source": [
    "import os\n",
    "os.environ[\"CUDA_VISIBLE_DEVICES\"] = \"0\"\n",
    "import torch\n",
    "from torch.utils.data import Dataset\n",
    "from torchvision import datasets\n",
    "from torchvision.io import read_image\n",
    "import numpy as np\n",
    "from torch.utils.data import DataLoader\n",
    "from torchvision.models import resnet50, ResNet50_Weights\n",
    "from torchvision.models import resnet18, ResNet18_Weights\n",
    "import torch.nn as nn\n",
    "import load_dataset\n",
    "import common_functions\n",
    "from time import time\n",
    "from tqdm import tqdm\n",
    "import matplotlib.pyplot as plt\n",
    "import unet_model_v2\n",
    "import torch.nn.functional as F\n",
    "from pytorch_msssim import MS_SSIM\n",
    "from skimage import io"
   ]
  },
  {
   "cell_type": "code",
   "execution_count": null,
   "id": "99604de7-bdc8-43d6-b407-86a5682c9f84",
   "metadata": {},
   "outputs": [],
   "source": [
    "device = torch.device(\"cuda:0\" if torch.cuda.is_available() else \"cpu\")\n",
    "gaze_model_efficientnet = torch.hub.load('NVIDIA/DeepLearningExamples:torchhub', 'nvidia_efficientnet_b0', pretrained=True).to(device)\n",
    "gaze_model_efficientnet.classifier.fc = nn.Linear(1280, 2).to(device)\n",
    "gaze_model_efficientnet.load_state_dict(torch.load(\"/data/volume_2/GazePrivacyModels/PretrainEffiNetXGaze/model.pt\"))\n",
    "\n",
    "gaze_model_efficientnet.eval()\n",
    "\n",
    "gaze_estimator = resnet18().to(device)\n",
    "gaze_estimator.fc = nn.Linear(512, 2).to(device)\n",
    "gaze_estimator.load_state_dict(torch.load(\"/data/volume_2/GazePrivacyModelsV2/PretrainRes18GazeCapture/model.pt\"))\n",
    "gaze_estimator.eval()\n",
    "\n",
    "loss_gaze = nn.L1Loss()\n",
    "loss_list = []\n",
    "GazeCapture_data = load_dataset.GazeCapture()\n",
    "train_dataloader = DataLoader(GazeCapture_data, batch_size=100, shuffle=True)\n",
    "image_array = np.zeros((500, 224, 224, 3))\n",
    "loss_array = np.zeros((500))"
   ]
  },
  {
   "cell_type": "code",
   "execution_count": null,
   "id": "e9320fbd-83de-4887-bb3e-04eef70bd000",
   "metadata": {},
   "outputs": [],
   "source": [
    "for batch, (X, y) in tqdm(enumerate(train_dataloader)):\n",
    "    X, y = X.to(device), y[:, 0:2].to(device)\n",
    "    gaze_pre = gaze_model_efficientnet(X)\n",
    "    gaze_ori = gaze_estimator(X)\n",
    "    loss = common_functions.angle_error_instance(gaze_pre,gaze_ori)\n",
    "    X_array = X.cpu().data.numpy()\n",
    "    X_array = np.transpose(X_array, (0, 2, 3, 1))\n",
    "    image_array[batch*100:(batch+1)*100,:,:,:] = X_array\n",
    "    loss = loss.cpu().data.numpy()\n",
    "    loss_array[batch*100:(batch+1)*100]  = loss\n",
    "    if batch == 4:\n",
    "        break"
   ]
  },
  {
   "cell_type": "code",
   "execution_count": null,
   "id": "d2504b86-d84c-4683-9ffc-4b003b0efe39",
   "metadata": {},
   "outputs": [],
   "source": [
    "sort_index = np.argsort(loss_array)"
   ]
  },
  {
   "cell_type": "code",
   "execution_count": null,
   "id": "9e54248b-5f77-4130-9cbf-7875644bf16d",
   "metadata": {},
   "outputs": [],
   "source": [
    "mean_face = np.zeros((224,224, 3))\n",
    "min_loss = 100\n",
    "for select_num in range(15, 50):\n",
    "    mean_face = np.zeros((224,224, 3))\n",
    "    for i in sort_index[0:select_num]:\n",
    "        mean_face += image_array[i]\n",
    "\n",
    "    mean_face /= select_num\n",
    "    mean_face *= 255\n",
    "    mean_face = mean_face.astype(np.uint8)\n",
    "    io.imsave(\"/data/volume_2/Gaze_privacy_v2/Gaze_privacy/gazecapture_average_face_efficientnet_M700.png\", mean_face)\n",
    "    anchor_image = torch.unsqueeze(read_image(\"/data/volume_2/Gaze_privacy_v2/Gaze_privacy/gazecapture_average_face_efficientnet_M700.png\")/255., 0).to(device)\n",
    "    gaze_pre = gaze_model_efficientnet(anchor_image)\n",
    "    gaze_ori = gaze_estimator(anchor_image)\n",
    "    ang_loss = common_functions.avg_angle_error(gaze_pre, gaze_ori).item()\n",
    "    if ang_loss<min_loss:\n",
    "        min_loss = ang_loss\n",
    "        fin_num = select_num\n",
    "plt.imshow(mean_face)\n",
    "plt.show()"
   ]
  },
  {
   "cell_type": "code",
   "execution_count": null,
   "id": "62ef41ee-1490-4a06-a46c-f40c5a98a2c4",
   "metadata": {},
   "outputs": [],
   "source": [
    "mean_face = np.zeros((224,224, 3))\n",
    "for i in sort_index[0:fin_num]:\n",
    "    mean_face += image_array[i]\n",
    "\n",
    "mean_face /= fin_num\n",
    "mean_face *= 255\n",
    "mean_face = mean_face.astype(np.uint8)\n",
    "io.imsave(\"/data/volume_2/Gaze_privacy_v2/Gaze_privacy/gazecapture_average_face_efficientnet_M700.png\", mean_face)\n",
    "anchor_image = torch.unsqueeze(read_image(\"/data/volume_2/Gaze_privacy_v2/Gaze_privacy/gazecapture_average_face_efficientnet_M700.png\")/255., 0).to(device)\n",
    "gaze_pre = gaze_model_efficientnet(anchor_image)\n",
    "gaze_ori = gaze_estimator(anchor_image)\n",
    "ang_loss = common_functions.avg_angle_error(gaze_pre, gaze_ori).item()\n",
    "print(ang_loss)\n",
    "plt.imshow(mean_face)\n",
    "plt.show()"
   ]
  }
 ],
 "metadata": {
  "kernelspec": {
   "display_name": "Python 3 (ipykernel)",
   "language": "python",
   "name": "python3"
  },
  "language_info": {
   "codemirror_mode": {
    "name": "ipython",
    "version": 3
   },
   "file_extension": ".py",
   "mimetype": "text/x-python",
   "name": "python",
   "nbconvert_exporter": "python",
   "pygments_lexer": "ipython3",
   "version": "3.10.12"
  }
 },
 "nbformat": 4,
 "nbformat_minor": 5
}
